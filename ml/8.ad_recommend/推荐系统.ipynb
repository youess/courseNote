{
 "cells": [
  {
   "cell_type": "code",
   "execution_count": 69,
   "metadata": {
    "collapsed": true,
    "deletable": true,
    "editable": true
   },
   "outputs": [],
   "source": [
    "import scipy.io as sio\n",
    "import numpy as np\n",
    "import pandas as pd\n",
    "from sklearn.metrics import f1_score\n",
    "# from scipy.stats import norm, multivariate_normal\n",
    "# python 中的优化算法集合\n",
    "# https://docs.scipy.org/doc/scipy/reference/generated/scipy.optimize.minimize.html#scipy.optimize.minimize\n",
    "from scipy.optimize import fmin_bfgs\n",
    "import matplotlib.pyplot as plt\n",
    "plt.style.use(\"seaborn-notebook\")\n",
    "%matplotlib inline\n",
    "# import matplotlib as mpl\n",
    "# mpl.rcParams[\"font.family\"] = \"DejaVu Sans\"\n",
    "import seaborn as sns\n",
    "sns.set(font=\"DejaVu Sans\")"
   ]
  },
  {
   "cell_type": "code",
   "execution_count": 2,
   "metadata": {
    "collapsed": false,
    "deletable": true,
    "editable": true
   },
   "outputs": [
    {
     "data": {
      "text/plain": [
       "dict_keys(['__header__', '__globals__', 'num_movies', 'num_features', 'num_users', 'Theta', 'X', '__version__'])"
      ]
     },
     "execution_count": 2,
     "metadata": {},
     "output_type": "execute_result"
    }
   ],
   "source": [
    "params = sio.loadmat(\"data/ex8_movieParams.mat\")\n",
    "params.keys()"
   ]
  },
  {
   "cell_type": "code",
   "execution_count": 3,
   "metadata": {
    "collapsed": false
   },
   "outputs": [
    {
     "data": {
      "text/plain": [
       "dict_keys(['__header__', '__globals__', 'R', 'Y', '__version__'])"
      ]
     },
     "execution_count": 3,
     "metadata": {},
     "output_type": "execute_result"
    }
   ],
   "source": [
    "movie = sio.loadmat(\"data/ex8_movies.mat\")\n",
    "movie.keys()"
   ]
  },
  {
   "cell_type": "code",
   "execution_count": 24,
   "metadata": {
    "collapsed": false
   },
   "outputs": [
    {
     "name": "stdout",
     "output_type": "stream",
     "text": [
      "(1682, 943)\n"
     ]
    },
    {
     "data": {
      "text/html": [
       "<div>\n",
       "<table border=\"1\" class=\"dataframe\">\n",
       "  <thead>\n",
       "    <tr style=\"text-align: right;\">\n",
       "      <th></th>\n",
       "      <th>0</th>\n",
       "      <th>1</th>\n",
       "      <th>2</th>\n",
       "      <th>3</th>\n",
       "      <th>4</th>\n",
       "      <th>5</th>\n",
       "      <th>6</th>\n",
       "      <th>7</th>\n",
       "      <th>8</th>\n",
       "      <th>9</th>\n",
       "      <th>...</th>\n",
       "      <th>933</th>\n",
       "      <th>934</th>\n",
       "      <th>935</th>\n",
       "      <th>936</th>\n",
       "      <th>937</th>\n",
       "      <th>938</th>\n",
       "      <th>939</th>\n",
       "      <th>940</th>\n",
       "      <th>941</th>\n",
       "      <th>942</th>\n",
       "    </tr>\n",
       "  </thead>\n",
       "  <tbody>\n",
       "    <tr>\n",
       "      <th>0</th>\n",
       "      <td>1</td>\n",
       "      <td>1</td>\n",
       "      <td>0</td>\n",
       "      <td>0</td>\n",
       "      <td>1</td>\n",
       "      <td>1</td>\n",
       "      <td>0</td>\n",
       "      <td>0</td>\n",
       "      <td>0</td>\n",
       "      <td>1</td>\n",
       "      <td>...</td>\n",
       "      <td>1</td>\n",
       "      <td>1</td>\n",
       "      <td>1</td>\n",
       "      <td>0</td>\n",
       "      <td>1</td>\n",
       "      <td>0</td>\n",
       "      <td>0</td>\n",
       "      <td>1</td>\n",
       "      <td>0</td>\n",
       "      <td>0</td>\n",
       "    </tr>\n",
       "    <tr>\n",
       "      <th>1</th>\n",
       "      <td>1</td>\n",
       "      <td>0</td>\n",
       "      <td>0</td>\n",
       "      <td>0</td>\n",
       "      <td>1</td>\n",
       "      <td>0</td>\n",
       "      <td>0</td>\n",
       "      <td>0</td>\n",
       "      <td>0</td>\n",
       "      <td>0</td>\n",
       "      <td>...</td>\n",
       "      <td>1</td>\n",
       "      <td>0</td>\n",
       "      <td>0</td>\n",
       "      <td>0</td>\n",
       "      <td>0</td>\n",
       "      <td>0</td>\n",
       "      <td>0</td>\n",
       "      <td>0</td>\n",
       "      <td>0</td>\n",
       "      <td>1</td>\n",
       "    </tr>\n",
       "    <tr>\n",
       "      <th>2</th>\n",
       "      <td>1</td>\n",
       "      <td>0</td>\n",
       "      <td>0</td>\n",
       "      <td>0</td>\n",
       "      <td>0</td>\n",
       "      <td>0</td>\n",
       "      <td>0</td>\n",
       "      <td>0</td>\n",
       "      <td>0</td>\n",
       "      <td>0</td>\n",
       "      <td>...</td>\n",
       "      <td>0</td>\n",
       "      <td>0</td>\n",
       "      <td>1</td>\n",
       "      <td>0</td>\n",
       "      <td>0</td>\n",
       "      <td>0</td>\n",
       "      <td>0</td>\n",
       "      <td>0</td>\n",
       "      <td>0</td>\n",
       "      <td>0</td>\n",
       "    </tr>\n",
       "    <tr>\n",
       "      <th>3</th>\n",
       "      <td>1</td>\n",
       "      <td>0</td>\n",
       "      <td>0</td>\n",
       "      <td>0</td>\n",
       "      <td>0</td>\n",
       "      <td>0</td>\n",
       "      <td>1</td>\n",
       "      <td>0</td>\n",
       "      <td>0</td>\n",
       "      <td>1</td>\n",
       "      <td>...</td>\n",
       "      <td>1</td>\n",
       "      <td>0</td>\n",
       "      <td>0</td>\n",
       "      <td>0</td>\n",
       "      <td>0</td>\n",
       "      <td>0</td>\n",
       "      <td>1</td>\n",
       "      <td>0</td>\n",
       "      <td>0</td>\n",
       "      <td>0</td>\n",
       "    </tr>\n",
       "    <tr>\n",
       "      <th>4</th>\n",
       "      <td>1</td>\n",
       "      <td>0</td>\n",
       "      <td>0</td>\n",
       "      <td>0</td>\n",
       "      <td>0</td>\n",
       "      <td>0</td>\n",
       "      <td>0</td>\n",
       "      <td>0</td>\n",
       "      <td>0</td>\n",
       "      <td>0</td>\n",
       "      <td>...</td>\n",
       "      <td>0</td>\n",
       "      <td>0</td>\n",
       "      <td>0</td>\n",
       "      <td>0</td>\n",
       "      <td>0</td>\n",
       "      <td>0</td>\n",
       "      <td>0</td>\n",
       "      <td>0</td>\n",
       "      <td>0</td>\n",
       "      <td>0</td>\n",
       "    </tr>\n",
       "  </tbody>\n",
       "</table>\n",
       "<p>5 rows × 943 columns</p>\n",
       "</div>"
      ],
      "text/plain": [
       "   0    1    2    3    4    5    6    7    8    9   ...   933  934  935  936  \\\n",
       "0    1    1    0    0    1    1    0    0    0    1 ...     1    1    1    0   \n",
       "1    1    0    0    0    1    0    0    0    0    0 ...     1    0    0    0   \n",
       "2    1    0    0    0    0    0    0    0    0    0 ...     0    0    1    0   \n",
       "3    1    0    0    0    0    0    1    0    0    1 ...     1    0    0    0   \n",
       "4    1    0    0    0    0    0    0    0    0    0 ...     0    0    0    0   \n",
       "\n",
       "   937  938  939  940  941  942  \n",
       "0    1    0    0    1    0    0  \n",
       "1    0    0    0    0    0    1  \n",
       "2    0    0    0    0    0    0  \n",
       "3    0    0    1    0    0    0  \n",
       "4    0    0    0    0    0    0  \n",
       "\n",
       "[5 rows x 943 columns]"
      ]
     },
     "execution_count": 24,
     "metadata": {},
     "output_type": "execute_result"
    }
   ],
   "source": [
    "# user gave movie rate or not\n",
    "R = pd.DataFrame(movie.get(\"R\"))\n",
    "print(R.shape)\n",
    "R.head()"
   ]
  },
  {
   "cell_type": "code",
   "execution_count": 54,
   "metadata": {
    "collapsed": true
   },
   "outputs": [],
   "source": [
    "for i in range(len(R.columns)):\n",
    "    cc = sum(R.ix[R.ix[:, i].isnull(), i])\n",
    "    if cc > 0:\n",
    "        print(i, cc)"
   ]
  },
  {
   "cell_type": "code",
   "execution_count": 25,
   "metadata": {
    "collapsed": false
   },
   "outputs": [
    {
     "name": "stdout",
     "output_type": "stream",
     "text": [
      "(1682, 943)\n"
     ]
    },
    {
     "data": {
      "text/html": [
       "<div>\n",
       "<table border=\"1\" class=\"dataframe\">\n",
       "  <thead>\n",
       "    <tr style=\"text-align: right;\">\n",
       "      <th></th>\n",
       "      <th>0</th>\n",
       "      <th>1</th>\n",
       "      <th>2</th>\n",
       "      <th>3</th>\n",
       "      <th>4</th>\n",
       "      <th>5</th>\n",
       "      <th>6</th>\n",
       "      <th>7</th>\n",
       "      <th>8</th>\n",
       "      <th>9</th>\n",
       "      <th>...</th>\n",
       "      <th>933</th>\n",
       "      <th>934</th>\n",
       "      <th>935</th>\n",
       "      <th>936</th>\n",
       "      <th>937</th>\n",
       "      <th>938</th>\n",
       "      <th>939</th>\n",
       "      <th>940</th>\n",
       "      <th>941</th>\n",
       "      <th>942</th>\n",
       "    </tr>\n",
       "  </thead>\n",
       "  <tbody>\n",
       "    <tr>\n",
       "      <th>0</th>\n",
       "      <td>5</td>\n",
       "      <td>4</td>\n",
       "      <td>0</td>\n",
       "      <td>0</td>\n",
       "      <td>4</td>\n",
       "      <td>4</td>\n",
       "      <td>0</td>\n",
       "      <td>0</td>\n",
       "      <td>0</td>\n",
       "      <td>4</td>\n",
       "      <td>...</td>\n",
       "      <td>2</td>\n",
       "      <td>3</td>\n",
       "      <td>4</td>\n",
       "      <td>0</td>\n",
       "      <td>4</td>\n",
       "      <td>0</td>\n",
       "      <td>0</td>\n",
       "      <td>5</td>\n",
       "      <td>0</td>\n",
       "      <td>0</td>\n",
       "    </tr>\n",
       "    <tr>\n",
       "      <th>1</th>\n",
       "      <td>3</td>\n",
       "      <td>0</td>\n",
       "      <td>0</td>\n",
       "      <td>0</td>\n",
       "      <td>3</td>\n",
       "      <td>0</td>\n",
       "      <td>0</td>\n",
       "      <td>0</td>\n",
       "      <td>0</td>\n",
       "      <td>0</td>\n",
       "      <td>...</td>\n",
       "      <td>4</td>\n",
       "      <td>0</td>\n",
       "      <td>0</td>\n",
       "      <td>0</td>\n",
       "      <td>0</td>\n",
       "      <td>0</td>\n",
       "      <td>0</td>\n",
       "      <td>0</td>\n",
       "      <td>0</td>\n",
       "      <td>5</td>\n",
       "    </tr>\n",
       "    <tr>\n",
       "      <th>2</th>\n",
       "      <td>4</td>\n",
       "      <td>0</td>\n",
       "      <td>0</td>\n",
       "      <td>0</td>\n",
       "      <td>0</td>\n",
       "      <td>0</td>\n",
       "      <td>0</td>\n",
       "      <td>0</td>\n",
       "      <td>0</td>\n",
       "      <td>0</td>\n",
       "      <td>...</td>\n",
       "      <td>0</td>\n",
       "      <td>0</td>\n",
       "      <td>4</td>\n",
       "      <td>0</td>\n",
       "      <td>0</td>\n",
       "      <td>0</td>\n",
       "      <td>0</td>\n",
       "      <td>0</td>\n",
       "      <td>0</td>\n",
       "      <td>0</td>\n",
       "    </tr>\n",
       "    <tr>\n",
       "      <th>3</th>\n",
       "      <td>3</td>\n",
       "      <td>0</td>\n",
       "      <td>0</td>\n",
       "      <td>0</td>\n",
       "      <td>0</td>\n",
       "      <td>0</td>\n",
       "      <td>5</td>\n",
       "      <td>0</td>\n",
       "      <td>0</td>\n",
       "      <td>4</td>\n",
       "      <td>...</td>\n",
       "      <td>5</td>\n",
       "      <td>0</td>\n",
       "      <td>0</td>\n",
       "      <td>0</td>\n",
       "      <td>0</td>\n",
       "      <td>0</td>\n",
       "      <td>2</td>\n",
       "      <td>0</td>\n",
       "      <td>0</td>\n",
       "      <td>0</td>\n",
       "    </tr>\n",
       "    <tr>\n",
       "      <th>4</th>\n",
       "      <td>3</td>\n",
       "      <td>0</td>\n",
       "      <td>0</td>\n",
       "      <td>0</td>\n",
       "      <td>0</td>\n",
       "      <td>0</td>\n",
       "      <td>0</td>\n",
       "      <td>0</td>\n",
       "      <td>0</td>\n",
       "      <td>0</td>\n",
       "      <td>...</td>\n",
       "      <td>0</td>\n",
       "      <td>0</td>\n",
       "      <td>0</td>\n",
       "      <td>0</td>\n",
       "      <td>0</td>\n",
       "      <td>0</td>\n",
       "      <td>0</td>\n",
       "      <td>0</td>\n",
       "      <td>0</td>\n",
       "      <td>0</td>\n",
       "    </tr>\n",
       "  </tbody>\n",
       "</table>\n",
       "<p>5 rows × 943 columns</p>\n",
       "</div>"
      ],
      "text/plain": [
       "   0    1    2    3    4    5    6    7    8    9   ...   933  934  935  936  \\\n",
       "0    5    4    0    0    4    4    0    0    0    4 ...     2    3    4    0   \n",
       "1    3    0    0    0    3    0    0    0    0    0 ...     4    0    0    0   \n",
       "2    4    0    0    0    0    0    0    0    0    0 ...     0    0    4    0   \n",
       "3    3    0    0    0    0    0    5    0    0    4 ...     5    0    0    0   \n",
       "4    3    0    0    0    0    0    0    0    0    0 ...     0    0    0    0   \n",
       "\n",
       "   937  938  939  940  941  942  \n",
       "0    4    0    0    5    0    0  \n",
       "1    0    0    0    0    0    5  \n",
       "2    0    0    0    0    0    0  \n",
       "3    0    0    2    0    0    0  \n",
       "4    0    0    0    0    0    0  \n",
       "\n",
       "[5 rows x 943 columns]"
      ]
     },
     "execution_count": 25,
     "metadata": {},
     "output_type": "execute_result"
    }
   ],
   "source": [
    "# rate matrix\n",
    "Y = pd.DataFrame(movie.get(\"Y\"))\n",
    "print(Y.shape)\n",
    "Y.head()"
   ]
  },
  {
   "cell_type": "code",
   "execution_count": 55,
   "metadata": {
    "collapsed": false
   },
   "outputs": [],
   "source": [
    "for i in range(len(Y.columns)):\n",
    "    cc = sum(Y.ix[Y.ix[:, i].isnull(), i])\n",
    "    if cc > 0:\n",
    "        print(i, cc)"
   ]
  },
  {
   "cell_type": "code",
   "execution_count": 12,
   "metadata": {
    "collapsed": true,
    "deletable": true,
    "editable": true
   },
   "outputs": [],
   "source": [
    "def load_mat(mat_file, vals):\n",
    "    \n",
    "    dat = sio.loadmat(mat_file)\n",
    "    return (pd.DataFrame(dat.get(v)) for v in vals)"
   ]
  },
  {
   "cell_type": "code",
   "execution_count": 14,
   "metadata": {
    "collapsed": false
   },
   "outputs": [],
   "source": [
    "# params.keys()\n",
    "num_movies, num_features, num_users, Theta, X = load_mat(\"data/ex8_movieParams.mat\", [\"num_movies\", \"num_features\", \"num_users\", \"Theta\", \"X\"])"
   ]
  },
  {
   "cell_type": "code",
   "execution_count": 16,
   "metadata": {
    "collapsed": false
   },
   "outputs": [
    {
     "name": "stdout",
     "output_type": "stream",
     "text": [
      "      0\n",
      "0  1682\n",
      "    0\n",
      "0  10\n",
      "     0\n",
      "0  943\n"
     ]
    }
   ],
   "source": [
    "print(num_movies)\n",
    "print(num_features)\n",
    "print(num_users)"
   ]
  },
  {
   "cell_type": "code",
   "execution_count": 18,
   "metadata": {
    "collapsed": false
   },
   "outputs": [
    {
     "name": "stdout",
     "output_type": "stream",
     "text": [
      "(943, 10)\n"
     ]
    },
    {
     "data": {
      "text/html": [
       "<div>\n",
       "<table border=\"1\" class=\"dataframe\">\n",
       "  <thead>\n",
       "    <tr style=\"text-align: right;\">\n",
       "      <th></th>\n",
       "      <th>0</th>\n",
       "      <th>1</th>\n",
       "      <th>2</th>\n",
       "      <th>3</th>\n",
       "      <th>4</th>\n",
       "      <th>5</th>\n",
       "      <th>6</th>\n",
       "      <th>7</th>\n",
       "      <th>8</th>\n",
       "      <th>9</th>\n",
       "    </tr>\n",
       "  </thead>\n",
       "  <tbody>\n",
       "    <tr>\n",
       "      <th>0</th>\n",
       "      <td>0.285444</td>\n",
       "      <td>-1.684265</td>\n",
       "      <td>0.262939</td>\n",
       "      <td>-0.287317</td>\n",
       "      <td>0.585725</td>\n",
       "      <td>0.980188</td>\n",
       "      <td>-0.063375</td>\n",
       "      <td>0.767232</td>\n",
       "      <td>-1.104602</td>\n",
       "      <td>-0.251867</td>\n",
       "    </tr>\n",
       "    <tr>\n",
       "      <th>1</th>\n",
       "      <td>0.505013</td>\n",
       "      <td>-0.454648</td>\n",
       "      <td>0.317462</td>\n",
       "      <td>-0.115087</td>\n",
       "      <td>0.567704</td>\n",
       "      <td>0.818905</td>\n",
       "      <td>0.461649</td>\n",
       "      <td>1.093063</td>\n",
       "      <td>-1.200294</td>\n",
       "      <td>-0.391617</td>\n",
       "    </tr>\n",
       "    <tr>\n",
       "      <th>2</th>\n",
       "      <td>-0.431917</td>\n",
       "      <td>-0.478804</td>\n",
       "      <td>0.846711</td>\n",
       "      <td>-0.011731</td>\n",
       "      <td>-0.138578</td>\n",
       "      <td>0.742591</td>\n",
       "      <td>-0.440276</td>\n",
       "      <td>1.363340</td>\n",
       "      <td>-0.325235</td>\n",
       "      <td>-0.194682</td>\n",
       "    </tr>\n",
       "    <tr>\n",
       "      <th>3</th>\n",
       "      <td>0.728598</td>\n",
       "      <td>-0.271894</td>\n",
       "      <td>0.326844</td>\n",
       "      <td>-0.250724</td>\n",
       "      <td>-0.471017</td>\n",
       "      <td>1.215827</td>\n",
       "      <td>-0.106129</td>\n",
       "      <td>1.615801</td>\n",
       "      <td>-0.670805</td>\n",
       "      <td>0.129868</td>\n",
       "    </tr>\n",
       "    <tr>\n",
       "      <th>4</th>\n",
       "      <td>0.052119</td>\n",
       "      <td>-1.380697</td>\n",
       "      <td>0.637941</td>\n",
       "      <td>-0.231980</td>\n",
       "      <td>0.246337</td>\n",
       "      <td>1.438879</td>\n",
       "      <td>-0.860022</td>\n",
       "      <td>0.668077</td>\n",
       "      <td>-0.560330</td>\n",
       "      <td>0.414959</td>\n",
       "    </tr>\n",
       "  </tbody>\n",
       "</table>\n",
       "</div>"
      ],
      "text/plain": [
       "          0         1         2         3         4         5         6  \\\n",
       "0  0.285444 -1.684265  0.262939 -0.287317  0.585725  0.980188 -0.063375   \n",
       "1  0.505013 -0.454648  0.317462 -0.115087  0.567704  0.818905  0.461649   \n",
       "2 -0.431917 -0.478804  0.846711 -0.011731 -0.138578  0.742591 -0.440276   \n",
       "3  0.728598 -0.271894  0.326844 -0.250724 -0.471017  1.215827 -0.106129   \n",
       "4  0.052119 -1.380697  0.637941 -0.231980  0.246337  1.438879 -0.860022   \n",
       "\n",
       "          7         8         9  \n",
       "0  0.767232 -1.104602 -0.251867  \n",
       "1  1.093063 -1.200294 -0.391617  \n",
       "2  1.363340 -0.325235 -0.194682  \n",
       "3  1.615801 -0.670805  0.129868  \n",
       "4  0.668077 -0.560330  0.414959  "
      ]
     },
     "execution_count": 18,
     "metadata": {},
     "output_type": "execute_result"
    }
   ],
   "source": [
    "print(Theta.shape)\n",
    "Theta.head()"
   ]
  },
  {
   "cell_type": "code",
   "execution_count": 19,
   "metadata": {
    "collapsed": false
   },
   "outputs": [
    {
     "name": "stdout",
     "output_type": "stream",
     "text": [
      "(1682, 10)\n"
     ]
    },
    {
     "data": {
      "text/html": [
       "<div>\n",
       "<table border=\"1\" class=\"dataframe\">\n",
       "  <thead>\n",
       "    <tr style=\"text-align: right;\">\n",
       "      <th></th>\n",
       "      <th>0</th>\n",
       "      <th>1</th>\n",
       "      <th>2</th>\n",
       "      <th>3</th>\n",
       "      <th>4</th>\n",
       "      <th>5</th>\n",
       "      <th>6</th>\n",
       "      <th>7</th>\n",
       "      <th>8</th>\n",
       "      <th>9</th>\n",
       "    </tr>\n",
       "  </thead>\n",
       "  <tbody>\n",
       "    <tr>\n",
       "      <th>0</th>\n",
       "      <td>1.048686</td>\n",
       "      <td>-0.400232</td>\n",
       "      <td>1.194119</td>\n",
       "      <td>0.371128</td>\n",
       "      <td>0.407607</td>\n",
       "      <td>0.974407</td>\n",
       "      <td>-0.058410</td>\n",
       "      <td>0.861721</td>\n",
       "      <td>-0.697290</td>\n",
       "      <td>0.288746</td>\n",
       "    </tr>\n",
       "    <tr>\n",
       "      <th>1</th>\n",
       "      <td>0.780851</td>\n",
       "      <td>-0.385626</td>\n",
       "      <td>0.521198</td>\n",
       "      <td>0.227355</td>\n",
       "      <td>0.570109</td>\n",
       "      <td>0.641264</td>\n",
       "      <td>-0.550006</td>\n",
       "      <td>0.704021</td>\n",
       "      <td>-0.485835</td>\n",
       "      <td>-0.564624</td>\n",
       "    </tr>\n",
       "    <tr>\n",
       "      <th>2</th>\n",
       "      <td>0.641509</td>\n",
       "      <td>-0.547854</td>\n",
       "      <td>-0.083796</td>\n",
       "      <td>-0.598519</td>\n",
       "      <td>-0.017694</td>\n",
       "      <td>0.299736</td>\n",
       "      <td>-0.720807</td>\n",
       "      <td>0.838546</td>\n",
       "      <td>-0.694832</td>\n",
       "      <td>-1.134796</td>\n",
       "    </tr>\n",
       "    <tr>\n",
       "      <th>3</th>\n",
       "      <td>0.453618</td>\n",
       "      <td>-0.800218</td>\n",
       "      <td>0.680481</td>\n",
       "      <td>-0.081743</td>\n",
       "      <td>0.136601</td>\n",
       "      <td>0.907561</td>\n",
       "      <td>0.277682</td>\n",
       "      <td>0.369300</td>\n",
       "      <td>-1.261208</td>\n",
       "      <td>-0.235581</td>\n",
       "    </tr>\n",
       "    <tr>\n",
       "      <th>4</th>\n",
       "      <td>0.937538</td>\n",
       "      <td>0.106090</td>\n",
       "      <td>0.361953</td>\n",
       "      <td>0.086646</td>\n",
       "      <td>0.287505</td>\n",
       "      <td>0.518644</td>\n",
       "      <td>-0.056871</td>\n",
       "      <td>0.914573</td>\n",
       "      <td>-0.819334</td>\n",
       "      <td>-0.542847</td>\n",
       "    </tr>\n",
       "  </tbody>\n",
       "</table>\n",
       "</div>"
      ],
      "text/plain": [
       "          0         1         2         3         4         5         6  \\\n",
       "0  1.048686 -0.400232  1.194119  0.371128  0.407607  0.974407 -0.058410   \n",
       "1  0.780851 -0.385626  0.521198  0.227355  0.570109  0.641264 -0.550006   \n",
       "2  0.641509 -0.547854 -0.083796 -0.598519 -0.017694  0.299736 -0.720807   \n",
       "3  0.453618 -0.800218  0.680481 -0.081743  0.136601  0.907561  0.277682   \n",
       "4  0.937538  0.106090  0.361953  0.086646  0.287505  0.518644 -0.056871   \n",
       "\n",
       "          7         8         9  \n",
       "0  0.861721 -0.697290  0.288746  \n",
       "1  0.704021 -0.485835 -0.564624  \n",
       "2  0.838546 -0.694832 -1.134796  \n",
       "3  0.369300 -1.261208 -0.235581  \n",
       "4  0.914573 -0.819334 -0.542847  "
      ]
     },
     "execution_count": 19,
     "metadata": {},
     "output_type": "execute_result"
    }
   ],
   "source": [
    "print(X.shape)\n",
    "X.head()"
   ]
  },
  {
   "cell_type": "code",
   "execution_count": 21,
   "metadata": {
    "collapsed": false
   },
   "outputs": [
    {
     "data": {
      "text/plain": [
       "45"
      ]
     },
     "execution_count": 21,
     "metadata": {},
     "output_type": "execute_result"
    }
   ],
   "source": [
    "sum(X.isnull())"
   ]
  },
  {
   "cell_type": "code",
   "execution_count": 63,
   "metadata": {
    "collapsed": false
   },
   "outputs": [
    {
     "data": {
      "text/plain": [
       "3.7369778735669072"
      ]
     },
     "execution_count": 63,
     "metadata": {},
     "output_type": "execute_result"
    }
   ],
   "source": [
    "np.dot(Theta.ix[0, :].transpose(), X.ix[0, :])"
   ]
  },
  {
   "cell_type": "code",
   "execution_count": 71,
   "metadata": {
    "collapsed": false
   },
   "outputs": [
    {
     "data": {
      "text/plain": [
       "444153"
      ]
     },
     "execution_count": 71,
     "metadata": {},
     "output_type": "execute_result"
    }
   ],
   "source": [
    "sum(Y * R)"
   ]
  },
  {
   "cell_type": "code",
   "execution_count": 72,
   "metadata": {
    "collapsed": false
   },
   "outputs": [
    {
     "data": {
      "text/plain": [
       "444153"
      ]
     },
     "execution_count": 72,
     "metadata": {},
     "output_type": "execute_result"
    }
   ],
   "source": [
    "sum(Y)"
   ]
  },
  {
   "cell_type": "code",
   "execution_count": 78,
   "metadata": {
    "collapsed": false
   },
   "outputs": [
    {
     "name": "stdout",
     "output_type": "stream",
     "text": [
      "[[1 2]\n",
      " [3 4]]\n",
      "[[0]\n",
      " [1]]\n"
     ]
    }
   ],
   "source": [
    "a = np.reshape(np.array([1, 2, 3, 4]), (2, 2))\n",
    "b = np.reshape(np.array([0, 1]), (2, 1))"
   ]
  },
  {
   "cell_type": "code",
   "execution_count": 98,
   "metadata": {
    "collapsed": false
   },
   "outputs": [
    {
     "data": {
      "text/plain": [
       "array([1, 2, 3, 4])"
      ]
     },
     "execution_count": 98,
     "metadata": {},
     "output_type": "execute_result"
    }
   ],
   "source": [
    "np.reshape(a, (4, 1))[:, 0]"
   ]
  },
  {
   "cell_type": "code",
   "execution_count": 99,
   "metadata": {
    "collapsed": false
   },
   "outputs": [
    {
     "data": {
      "text/plain": [
       "array([0, 1])"
      ]
     },
     "execution_count": 99,
     "metadata": {},
     "output_type": "execute_result"
    }
   ],
   "source": [
    "np.reshape(b, (2, 1))[:, 0]"
   ]
  },
  {
   "cell_type": "code",
   "execution_count": 108,
   "metadata": {
    "collapsed": false
   },
   "outputs": [
    {
     "data": {
      "text/plain": [
       "array([1, 2, 3, 4])"
      ]
     },
     "execution_count": 108,
     "metadata": {},
     "output_type": "execute_result"
    }
   ],
   "source": [
    "a.flatten()"
   ]
  },
  {
   "cell_type": "code",
   "execution_count": 102,
   "metadata": {
    "collapsed": false
   },
   "outputs": [
    {
     "data": {
      "text/plain": [
       "array([1, 2, 3, 4, 0, 1])"
      ]
     },
     "execution_count": 102,
     "metadata": {},
     "output_type": "execute_result"
    }
   ],
   "source": [
    "c = np.hstack((np.reshape(a, (4, 1))[:, 0], np.reshape(b, (2, 1))[:, 0]))\n",
    "c"
   ]
  },
  {
   "cell_type": "code",
   "execution_count": 109,
   "metadata": {
    "collapsed": false
   },
   "outputs": [
    {
     "data": {
      "text/plain": [
       "array([1, 2, 3, 4, 0, 1])"
      ]
     },
     "execution_count": 109,
     "metadata": {},
     "output_type": "execute_result"
    }
   ],
   "source": [
    "c = np.append(a.flatten(), b.flatten())\n",
    "c"
   ]
  },
  {
   "cell_type": "code",
   "execution_count": 103,
   "metadata": {
    "collapsed": false
   },
   "outputs": [
    {
     "data": {
      "text/plain": [
       "array([[1, 2],\n",
       "       [3, 4]])"
      ]
     },
     "execution_count": 103,
     "metadata": {},
     "output_type": "execute_result"
    }
   ],
   "source": [
    "np.reshape(c[:4], (2, 2))"
   ]
  },
  {
   "cell_type": "code",
   "execution_count": 105,
   "metadata": {
    "collapsed": false
   },
   "outputs": [
    {
     "data": {
      "text/plain": [
       "array([[0],\n",
       "       [1]])"
      ]
     },
     "execution_count": 105,
     "metadata": {},
     "output_type": "execute_result"
    }
   ],
   "source": [
    "np.reshape(c[4:], (2, 1))"
   ]
  },
  {
   "cell_type": "code",
   "execution_count": 107,
   "metadata": {
    "collapsed": false
   },
   "outputs": [
    {
     "data": {
      "text/plain": [
       "array([[ 0.,  0.],\n",
       "       [ 0.,  0.]])"
      ]
     },
     "execution_count": 107,
     "metadata": {},
     "output_type": "execute_result"
    }
   ],
   "source": [
    "np.zeros((2, 2))"
   ]
  },
  {
   "cell_type": "code",
   "execution_count": 132,
   "metadata": {
    "collapsed": false
   },
   "outputs": [
    {
     "name": "stdout",
     "output_type": "stream",
     "text": [
      "(1682, 10)\n",
      "(943, 10)\n"
     ]
    },
    {
     "data": {
      "text/plain": [
       "55837.280249088421"
      ]
     },
     "execution_count": 132,
     "metadata": {},
     "output_type": "execute_result"
    }
   ],
   "source": [
    "print(X.shape)\n",
    "print(Theta.shape)\n",
    "# np.dot(X, Theta.T)   # 1682 * 10 x 10 * 943\n",
    "# print(Y.shape - np.dot(X, Theta.T))\n",
    "np.sum(((np.asarray(Y) - np.dot(X, Theta.T)) * np.asarray(R))**2)"
   ]
  },
  {
   "cell_type": "code",
   "execution_count": 135,
   "metadata": {
    "collapsed": false
   },
   "outputs": [
    {
     "data": {
      "text/plain": [
       "array([  0,   4,  12,  21,  29,  41,  48,  63,  71,  82,  86,  91,  94,\n",
       "       101, 109, 129, 177, 192, 196, 199, 200, 206, 212, 216, 221, 233,\n",
       "       248, 249, 255, 266, 267, 270, 275, 278, 279, 291, 292, 300, 302,\n",
       "       304, 319, 324, 326, 345, 362, 372, 373, 377, 378, 384, 386, 392,\n",
       "       397, 398, 404, 406, 415, 424, 428, 434, 441, 449, 454, 465, 471,\n",
       "       483, 486, 494, 496, 505, 520, 531, 535, 542, 550, 560, 565, 599,\n",
       "       617, 620, 621, 626, 631, 639, 641, 642, 647, 649, 652, 654, 659,\n",
       "       670, 681, 685, 704, 708, 714, 726, 737, 745, 748, 750, 756, 763,\n",
       "       772, 773, 789, 794, 795, 797, 803, 805, 806, 814, 825, 829, 843,\n",
       "       845, 863, 867, 869, 879, 885, 888, 891, 895, 898, 915, 923, 933, 942])"
      ]
     },
     "execution_count": 135,
     "metadata": {},
     "output_type": "execute_result"
    }
   ],
   "source": [
    "np.where(np.asarray(R)[1, :] == 1)[0]"
   ]
  },
  {
   "cell_type": "code",
   "execution_count": 68,
   "metadata": {
    "collapsed": false
   },
   "outputs": [],
   "source": [
    "def cofiCostFunc(params, Y, R, num_movies, num_users, num_features, lambda_p):\n",
    "    \n",
    "    \"\"\"\n",
    "    # X:       movies * features\n",
    "    # Theta:   users * features\n",
    "    params:    a vector contains X and Theta\n",
    "    Y:         movies * users\n",
    "    R:         movies * users if one user rate corresponding movie\n",
    "    lambda_p:  lambda for regularization\n",
    "    J:         returned cost\n",
    "    \"\"\"\n",
    "    # extract vectors\n",
    "    X = np.reshape(params[:(num_movies * num_features + 1)], (num_movies, num_features))\n",
    "    Theta = np.reshape(params[(num_movies * num_features + 1):], (num_users, num_features))\n",
    "    \n",
    "    # return vals\n",
    "    J = 0\n",
    "    X_grad = np.zeros(X.shape)\n",
    "    Theta_grad = np.zeros(Theta.shape)\n",
    "    \n",
    "    # compute the cost\n",
    "    J = 0.5 * np.sum(\n",
    "        ( (np.asarray(Y) - np.dot(X, Theta.T)) * np.asarray(R))**2\n",
    "    ) +    # regularization of X\n",
    "    0.5 * lambda_p * np.sum(Theta**2) +\n",
    "    0.5 * lambda_p * np.sum(X**2)\n",
    "    \n",
    "    # compute the X gradient\n",
    "    for i in range(num_movies):\n",
    "        # users who had rate for a moive\n",
    "        idx = np.where(np.asarray(R)[i, :] == 1)[0]\n",
    "        # those users theta paramter for movies\n",
    "        temp_theta = Theta[idx, :]\n",
    "        # rating given to the movie\n",
    "        temp_y = Y[, idx]\n",
    "    \n",
    "    return J"
   ]
  },
  {
   "cell_type": "code",
   "execution_count": 65,
   "metadata": {
    "collapsed": true
   },
   "outputs": [],
   "source": [
    "# movie, user, feature number\n",
    "mn, un, fn = (4, 5, 3)\n",
    "sX = X.ix[:mn, :fn]\n",
    "sTheta = Theta.ix[:un, :fn]\n",
    "sY = Y.ix[:mn, :un]\n",
    "sR = R.ix[:mn, :un]"
   ]
  },
  {
   "cell_type": "code",
   "execution_count": null,
   "metadata": {
    "collapsed": true
   },
   "outputs": [],
   "source": [
    "fmin_bfgs(cost_without_regularization, )"
   ]
  }
 ],
 "metadata": {
  "kernelspec": {
   "display_name": "Python 3",
   "language": "python",
   "name": "python3"
  },
  "language_info": {
   "codemirror_mode": {
    "name": "ipython",
    "version": 3
   },
   "file_extension": ".py",
   "mimetype": "text/x-python",
   "name": "python",
   "nbconvert_exporter": "python",
   "pygments_lexer": "ipython3",
   "version": "3.5.2+"
  }
 },
 "nbformat": 4,
 "nbformat_minor": 2
}
