{
 "cells": [
  {
   "cell_type": "code",
   "execution_count": 75,
   "metadata": {
    "collapsed": false
   },
   "outputs": [],
   "source": [
    "import scipy.io as sio\n",
    "import numpy as np\n",
    "import matplotlib.pyplot as plt\n",
    "import pandas as pd\n",
    "from sklearn.metrics import f1_score\n",
    "%matplotlib inline"
   ]
  },
  {
   "cell_type": "code",
   "execution_count": 5,
   "metadata": {
    "collapsed": false
   },
   "outputs": [],
   "source": [
    "dat = sio.loadmat('data/ex8data1.mat')"
   ]
  },
  {
   "cell_type": "code",
   "execution_count": 6,
   "metadata": {
    "collapsed": false
   },
   "outputs": [
    {
     "data": {
      "text/plain": [
       "dict_keys(['X', '__globals__', '__header__', 'Xval', 'yval', '__version__'])"
      ]
     },
     "execution_count": 6,
     "metadata": {},
     "output_type": "execute_result"
    }
   ],
   "source": [
    "dat.keys()"
   ]
  },
  {
   "cell_type": "code",
   "execution_count": 41,
   "metadata": {
    "collapsed": false
   },
   "outputs": [],
   "source": [
    "X = pd.DataFrame(dat.get('X'))\n",
    "Xval = pd.DataFrame(dat.get('Xval'))\n",
    "yval = pd.DataFrame(dat.get('yval'))"
   ]
  },
  {
   "cell_type": "code",
   "execution_count": 52,
   "metadata": {
    "collapsed": false
   },
   "outputs": [
    {
     "name": "stdout",
     "output_type": "stream",
     "text": [
      "                0           1\n",
      "count  307.000000  307.000000\n",
      "mean    14.112226   14.997711\n",
      "std      1.355957    1.309707\n",
      "min      4.752613    4.126232\n",
      "25%     13.403351   14.361997\n",
      "50%     14.059507   15.023113\n",
      "75%     14.675503   15.654394\n",
      "max     23.339868   24.350407\n",
      "                0           1\n",
      "count  307.000000  307.000000\n",
      "mean    14.019298   15.037747\n",
      "std      1.589370    1.277235\n",
      "min      0.307938    5.391413\n",
      "25%     13.342866   14.377294\n",
      "50%     14.031070   15.020764\n",
      "75%     14.708025   15.717998\n",
      "max     28.541786   23.355973\n",
      "                0\n",
      "count  307.000000\n",
      "mean     0.029316\n",
      "std      0.168966\n",
      "min      0.000000\n",
      "25%      0.000000\n",
      "50%      0.000000\n",
      "75%      0.000000\n",
      "max      1.000000\n"
     ]
    }
   ],
   "source": [
    "print(X.describe())\n",
    "print(Xval.describe())\n",
    "print(yval.describe())"
   ]
  },
  {
   "cell_type": "code",
   "execution_count": 50,
   "metadata": {
    "collapsed": false
   },
   "outputs": [
    {
     "data": {
      "text/plain": [
       "(298, 9)"
      ]
     },
     "execution_count": 50,
     "metadata": {},
     "output_type": "execute_result"
    }
   ],
   "source": [
    "sum(yval[0] == 0), sum(yval[0] == 1)"
   ]
  },
  {
   "cell_type": "code",
   "execution_count": 33,
   "metadata": {
    "collapsed": false
   },
   "outputs": [],
   "source": [
    "# import matplotlib\n",
    "# matplotlib.markers?"
   ]
  },
  {
   "cell_type": "code",
   "execution_count": 69,
   "metadata": {
    "collapsed": false
   },
   "outputs": [
    {
     "data": {
      "text/plain": [
       "<matplotlib.text.Text at 0x7f56e3ef29b0>"
      ]
     },
     "execution_count": 69,
     "metadata": {},
     "output_type": "execute_result"
    },
    {
     "data": {
      "image/png": "[encoded data removed]",
      "text/plain": [
       "<matplotlib.figure.Figure at 0x7f56ed320be0>"
      ]
     },
     "metadata": {},
     "output_type": "display_data"
    }
   ],
   "source": [
    "# train data looks like\n",
    "# plt.figure()\n",
    "# plt.scatter(X[:, 0], X[:, 1], marker=\"x\")\n",
    "# plt.xlabel(\"Latency(ms)\")\n",
    "# plt.ylabel(\"Through-put(mb/s)\")\n",
    "# plt.title(\"Server Features\")\n",
    "# plt.show()\n",
    "ax = X.plot(0, 1, kind=\"scatter\", marker=\"x\",title=\"Server Info\")\n",
    "ax.set_xlabel(\"Latency(ms)\")\n",
    "ax.set_ylabel(\"Throughput(mb/s)\")"
   ]
  },
  {
   "cell_type": "code",
   "execution_count": 70,
   "metadata": {
    "collapsed": false
   },
   "outputs": [
    {
     "data": {
      "text/plain": [
       "0    14.112226\n",
       "1    14.997711\n",
       "dtype: float64"
      ]
     },
     "execution_count": 70,
     "metadata": {},
     "output_type": "execute_result"
    }
   ],
   "source": [
    "X.mean()"
   ]
  },
  {
   "cell_type": "code",
   "execution_count": 72,
   "metadata": {
    "collapsed": false
   },
   "outputs": [
    {
     "data": {
      "text/plain": [
       "0    1.355957\n",
       "1    1.309707\n",
       "dtype: float64"
      ]
     },
     "execution_count": 72,
     "metadata": {},
     "output_type": "execute_result"
    }
   ],
   "source": [
    "X.std()"
   ]
  },
  {
   "cell_type": "code",
   "execution_count": 74,
   "metadata": {
    "collapsed": false
   },
   "outputs": [
    {
     "data": {
      "text/plain": [
       "array([  1.00000000e-05,   1.02000000e-03,   2.03000000e-03,\n",
       "         3.04000000e-03,   4.05000000e-03,   5.06000000e-03,\n",
       "         6.07000000e-03,   7.08000000e-03,   8.09000000e-03,\n",
       "         9.10000000e-03,   1.01100000e-02,   1.11200000e-02,\n",
       "         1.21300000e-02,   1.31400000e-02,   1.41500000e-02,\n",
       "         1.51600000e-02,   1.61700000e-02,   1.71800000e-02,\n",
       "         1.81900000e-02,   1.92000000e-02,   2.02100000e-02,\n",
       "         2.12200000e-02,   2.22300000e-02,   2.32400000e-02,\n",
       "         2.42500000e-02,   2.52600000e-02,   2.62700000e-02,\n",
       "         2.72800000e-02,   2.82900000e-02,   2.93000000e-02,\n",
       "         3.03100000e-02,   3.13200000e-02,   3.23300000e-02,\n",
       "         3.33400000e-02,   3.43500000e-02,   3.53600000e-02,\n",
       "         3.63700000e-02,   3.73800000e-02,   3.83900000e-02,\n",
       "         3.94000000e-02,   4.04100000e-02,   4.14200000e-02,\n",
       "         4.24300000e-02,   4.34400000e-02,   4.44500000e-02,\n",
       "         4.54600000e-02,   4.64700000e-02,   4.74800000e-02,\n",
       "         4.84900000e-02,   4.95000000e-02,   5.05100000e-02,\n",
       "         5.15200000e-02,   5.25300000e-02,   5.35400000e-02,\n",
       "         5.45500000e-02,   5.55600000e-02,   5.65700000e-02,\n",
       "         5.75800000e-02,   5.85900000e-02,   5.96000000e-02,\n",
       "         6.06100000e-02,   6.16200000e-02,   6.26300000e-02,\n",
       "         6.36400000e-02,   6.46500000e-02,   6.56600000e-02,\n",
       "         6.66700000e-02,   6.76800000e-02,   6.86900000e-02,\n",
       "         6.97000000e-02,   7.07100000e-02,   7.17200000e-02,\n",
       "         7.27300000e-02,   7.37400000e-02,   7.47500000e-02,\n",
       "         7.57600000e-02,   7.67700000e-02,   7.77800000e-02,\n",
       "         7.87900000e-02,   7.98000000e-02,   8.08100000e-02,\n",
       "         8.18200000e-02,   8.28300000e-02,   8.38400000e-02,\n",
       "         8.48500000e-02,   8.58600000e-02,   8.68700000e-02,\n",
       "         8.78800000e-02,   8.88900000e-02,   8.99000000e-02,\n",
       "         9.09100000e-02,   9.19200000e-02,   9.29300000e-02,\n",
       "         9.39400000e-02,   9.49500000e-02,   9.59600000e-02,\n",
       "         9.69700000e-02,   9.79800000e-02,   9.89900000e-02,\n",
       "         1.00000000e-01])"
      ]
     },
     "execution_count": 74,
     "metadata": {},
     "output_type": "execute_result"
    }
   ],
   "source": [
    "eps = np.linspace(1e-5, 1e-1, 100)\n",
    "eps"
   ]
  },
  {
   "cell_type": "code",
   "execution_count": null,
   "metadata": {
    "collapsed": true
   },
   "outputs": [],
   "source": [
    "def cal_prob()"
   ]
  }
 ],
 "metadata": {
  "kernelspec": {
   "display_name": "Python 3",
   "language": "python",
   "name": "python3"
  },
  "language_info": {
   "codemirror_mode": {
    "name": "ipython",
    "version": 3
   },
   "file_extension": ".py",
   "mimetype": "text/x-python",
   "name": "python",
   "nbconvert_exporter": "python",
   "pygments_lexer": "ipython3",
   "version": "3.5.2+"
  }
 },
 "nbformat": 4,
 "nbformat_minor": 2
}
