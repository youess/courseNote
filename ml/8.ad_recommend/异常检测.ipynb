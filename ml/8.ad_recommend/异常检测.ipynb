{
 "cells": [
  {
   "cell_type": "code",
   "execution_count": 1,
   "metadata": {
    "collapsed": false,
    "deletable": true,
    "editable": true
   },
   "outputs": [],
   "source": [
    "import scipy.io as sio\n",
    "import numpy as np\n",
    "import pandas as pd\n",
    "from sklearn.metrics import f1_score\n",
    "from scipy.stats import norm, multivariate_normal\n",
    "import matplotlib.pyplot as plt\n",
    "plt.style.use(\"seaborn-notebook\")\n",
    "%matplotlib inline\n",
    "# import matplotlib as mpl\n",
    "# mpl.rcParams[\"font.family\"] = \"DejaVu Sans\"\n",
    "import seaborn as sns\n",
    "sns.set(font=\"DejaVu Sans\")"
   ]
  },
  {
   "cell_type": "code",
   "execution_count": 2,
   "metadata": {
    "collapsed": false,
    "deletable": true,
    "editable": true
   },
   "outputs": [],
   "source": [
    "dat = sio.loadmat('data/ex8data1.mat')"
   ]
  },
  {
   "cell_type": "code",
   "execution_count": 3,
   "metadata": {
    "collapsed": false,
    "deletable": true,
    "editable": true
   },
   "outputs": [
    {
     "data": {
      "text/plain": [
       "dict_keys(['__header__', '__version__', 'Xval', '__globals__', 'yval', 'X'])"
      ]
     },
     "execution_count": 3,
     "metadata": {},
     "output_type": "execute_result"
    }
   ],
   "source": [
    "dat.keys()"
   ]
  },
  {
   "cell_type": "code",
   "execution_count": 4,
   "metadata": {
    "collapsed": true,
    "deletable": true,
    "editable": true
   },
   "outputs": [],
   "source": [
    "def loadMat(matfile):\n",
    "    dat = sio.loadmat(matfile)\n",
    "    return map(lambda e: pd.DataFrame(dat.get(e)), [\"X\", \"Xval\", \"yval\"])"
   ]
  },
  {
   "cell_type": "code",
   "execution_count": 5,
   "metadata": {
    "collapsed": false,
    "deletable": true,
    "editable": true
   },
   "outputs": [],
   "source": [
    "#X = pd.DataFrame(dat.get('X'))\n",
    "#Xval = pd.DataFrame(dat.get('Xval'))\n",
    "#yval = pd.DataFrame(dat.get('yval'))\n",
    "X, Xval, yval = loadMat(\"data/ex8data1.mat\")"
   ]
  },
  {
   "cell_type": "code",
   "execution_count": 6,
   "metadata": {
    "collapsed": false,
    "deletable": true,
    "editable": true
   },
   "outputs": [
    {
     "name": "stdout",
     "output_type": "stream",
     "text": [
      "                0           1\n",
      "count  307.000000  307.000000\n",
      "mean    14.112226   14.997711\n",
      "std      1.355957    1.309707\n",
      "min      4.752613    4.126232\n",
      "25%     13.403351   14.361997\n",
      "50%     14.059507   15.023113\n",
      "75%     14.675503   15.654394\n",
      "max     23.339868   24.350407\n",
      "                0           1\n",
      "count  307.000000  307.000000\n",
      "mean    14.019298   15.037747\n",
      "std      1.589370    1.277235\n",
      "min      0.307938    5.391413\n",
      "25%     13.342866   14.377294\n",
      "50%     14.031070   15.020764\n",
      "75%     14.708025   15.717998\n",
      "max     28.541786   23.355973\n",
      "                0\n",
      "count  307.000000\n",
      "mean     0.029316\n",
      "std      0.168966\n",
      "min      0.000000\n",
      "25%      0.000000\n",
      "50%      0.000000\n",
      "75%      0.000000\n",
      "max      1.000000\n"
     ]
    }
   ],
   "source": [
    "print(X.describe())\n",
    "print(Xval.describe())\n",
    "print(yval.describe())"
   ]
  },
  {
   "cell_type": "code",
   "execution_count": 7,
   "metadata": {
    "collapsed": false,
    "deletable": true,
    "editable": true
   },
   "outputs": [
    {
     "data": {
      "text/plain": [
       "(298, 9)"
      ]
     },
     "execution_count": 7,
     "metadata": {},
     "output_type": "execute_result"
    }
   ],
   "source": [
    "sum(yval[0] == 0), sum(yval[0] == 1)"
   ]
  },
  {
   "cell_type": "code",
   "execution_count": 8,
   "metadata": {
    "collapsed": false,
    "deletable": true,
    "editable": true
   },
   "outputs": [],
   "source": [
    "# import matplotlib\n",
    "# matplotlib.markers?"
   ]
  },
  {
   "cell_type": "code",
   "execution_count": 9,
   "metadata": {
    "collapsed": false,
    "deletable": true,
    "editable": true
   },
   "outputs": [
    {
     "data": {
      "text/plain": [
       "<matplotlib.text.Text at 0x7fbc58822eb8>"
      ]
     },
     "execution_count": 9,
     "metadata": {},
     "output_type": "execute_result"
    },
    {
     "data": {
      "image/png": "[encoded data removed]",
      "text/plain": [
       "<matplotlib.figure.Figure at 0x7fbc5a84b3c8>"
      ]
     },
     "metadata": {},
     "output_type": "display_data"
    }
   ],
   "source": [
    "# train data looks like\n",
    "# plt.figure()\n",
    "# plt.scatter(X[:, 0], X[:, 1], marker=\"x\")\n",
    "# plt.xlabel(\"Latency(ms)\")\n",
    "# plt.ylabel(\"Through-put(mb/s)\")\n",
    "# plt.title(\"Server Features\")\n",
    "# plt.show()\n",
    "ax = X.plot(0, 1, kind=\"scatter\", marker=\"x\",title=\"Server Info\")\n",
    "ax.set_xlabel(\"Latency(ms)\")\n",
    "ax.set_ylabel(\"Throughput(mb/s)\")"
   ]
  },
  {
   "cell_type": "code",
   "execution_count": 10,
   "metadata": {
    "collapsed": false,
    "deletable": true,
    "editable": true
   },
   "outputs": [
    {
     "data": {
      "text/plain": [
       "0    14.112226\n",
       "1    14.997711\n",
       "dtype: float64"
      ]
     },
     "execution_count": 10,
     "metadata": {},
     "output_type": "execute_result"
    }
   ],
   "source": [
    "mu = X.mean()\n",
    "mu"
   ]
  },
  {
   "cell_type": "code",
   "execution_count": 11,
   "metadata": {
    "collapsed": false,
    "deletable": true,
    "editable": true
   },
   "outputs": [
    {
     "data": {
      "text/plain": [
       "0    1.355957\n",
       "1    1.309707\n",
       "dtype: float64"
      ]
     },
     "execution_count": 11,
     "metadata": {},
     "output_type": "execute_result"
    }
   ],
   "source": [
    "sd = X.std()\n",
    "sd"
   ]
  },
  {
   "cell_type": "code",
   "execution_count": 12,
   "metadata": {
    "collapsed": false,
    "deletable": true,
    "editable": true
   },
   "outputs": [
    {
     "data": {
      "text/plain": [
       "array([  1.00000000e-05,   1.02000000e-03,   2.03000000e-03,\n",
       "         3.04000000e-03,   4.05000000e-03,   5.06000000e-03,\n",
       "         6.07000000e-03,   7.08000000e-03,   8.09000000e-03,\n",
       "         9.10000000e-03])"
      ]
     },
     "execution_count": 12,
     "metadata": {},
     "output_type": "execute_result"
    }
   ],
   "source": [
    "eps = np.linspace(1e-5, 1e-1, 100)\n",
    "eps[:10]"
   ]
  },
  {
   "cell_type": "code",
   "execution_count": 13,
   "metadata": {
    "collapsed": false,
    "deletable": true,
    "editable": true
   },
   "outputs": [
    {
     "data": {
      "text/html": [
       "<div>\n",
       "<table border=\"1\" class=\"dataframe\">\n",
       "  <thead>\n",
       "    <tr style=\"text-align: right;\">\n",
       "      <th></th>\n",
       "      <th>0</th>\n",
       "      <th>1</th>\n",
       "    </tr>\n",
       "  </thead>\n",
       "  <tbody>\n",
       "    <tr>\n",
       "      <th>0</th>\n",
       "      <td>15.790260</td>\n",
       "      <td>14.921024</td>\n",
       "    </tr>\n",
       "    <tr>\n",
       "      <th>1</th>\n",
       "      <td>13.639619</td>\n",
       "      <td>15.329955</td>\n",
       "    </tr>\n",
       "    <tr>\n",
       "      <th>2</th>\n",
       "      <td>14.865899</td>\n",
       "      <td>16.473865</td>\n",
       "    </tr>\n",
       "    <tr>\n",
       "      <th>3</th>\n",
       "      <td>13.584676</td>\n",
       "      <td>13.989306</td>\n",
       "    </tr>\n",
       "    <tr>\n",
       "      <th>4</th>\n",
       "      <td>13.464042</td>\n",
       "      <td>15.635330</td>\n",
       "    </tr>\n",
       "  </tbody>\n",
       "</table>\n",
       "</div>"
      ],
      "text/plain": [
       "           0          1\n",
       "0  15.790260  14.921024\n",
       "1  13.639619  15.329955\n",
       "2  14.865899  16.473865\n",
       "3  13.584676  13.989306\n",
       "4  13.464042  15.635330"
      ]
     },
     "execution_count": 13,
     "metadata": {},
     "output_type": "execute_result"
    }
   ],
   "source": [
    "Xval.head()"
   ]
  },
  {
   "cell_type": "code",
   "execution_count": 14,
   "metadata": {
    "collapsed": false,
    "deletable": true,
    "editable": true
   },
   "outputs": [
    {
     "data": {
      "text/plain": [
       "(307,)"
      ]
     },
     "execution_count": 14,
     "metadata": {},
     "output_type": "execute_result"
    }
   ],
   "source": [
    "y_est = np.exp(norm.logpdf(Xval[0], X.mean()[0], X.std()[0]) + norm.logpdf(Xval[1], X.mean()[1], X.std()[1]))\n",
    "y_est.shape"
   ]
  },
  {
   "cell_type": "code",
   "execution_count": 15,
   "metadata": {
    "collapsed": false,
    "deletable": true,
    "editable": true
   },
   "outputs": [
    {
     "data": {
      "text/plain": [
       "0.7142857142857143"
      ]
     },
     "execution_count": 15,
     "metadata": {},
     "output_type": "execute_result"
    }
   ],
   "source": [
    "# calculate the f-score\n",
    "f1_score(yval[0], [1 if v < eps[0] else 0 for v in y_est], average=\"binary\")"
   ]
  },
  {
   "cell_type": "code",
   "execution_count": 16,
   "metadata": {
    "collapsed": false,
    "deletable": true,
    "editable": true
   },
   "outputs": [
    {
     "data": {
      "text/plain": [
       "matrix([[ 1.83862041, -0.22786456],\n",
       "        [-0.22786456,  1.71533273]])"
      ]
     },
     "execution_count": 16,
     "metadata": {},
     "output_type": "execute_result"
    }
   ],
   "source": [
    "cov = np.matrix(X.cov())\n",
    "cov"
   ]
  },
  {
   "cell_type": "code",
   "execution_count": 17,
   "metadata": {
    "collapsed": false,
    "deletable": true,
    "editable": true
   },
   "outputs": [],
   "source": [
    "# 各特征相互相乘\n",
    "def cal_prob(Xval, mu, sd):\n",
    "    feature_norm = []\n",
    "    for i in range(len(mu)):\n",
    "        feature_norm.append(norm.logpdf(Xval.iloc[:, i], mu[i], sd[i]))\n",
    "    return np.exp(sum(feature_norm))\n",
    "\n",
    "# 利用多维正太分布模拟\n",
    "def cal_prob2(Xval, mu, cov):\n",
    "    return np.exp(multivariate_normal.logpdf(Xval, mu, cov))\n",
    "\n",
    "\n",
    "def select_best_eps(Xval, yval, mu, sd, eps, func):\n",
    "    for e in eps:\n",
    "        # 将各个特征的正太分布相乘\n",
    "        y_prob = func(Xval, mu, sd)\n",
    "        y_pred = [1 if v < e else 0 for v in y_prob]\n",
    "        f1 = f1_score(yval, y_pred, average=\"binary\")\n",
    "        yield (f1, e)"
   ]
  },
  {
   "cell_type": "code",
   "execution_count": 18,
   "metadata": {
    "collapsed": false,
    "deletable": true,
    "editable": true
   },
   "outputs": [
    {
     "data": {
      "text/plain": [
       "array([ 0.04180529,  0.08317355,  0.03731107,  0.05952918,  0.07352085])"
      ]
     },
     "execution_count": 18,
     "metadata": {},
     "output_type": "execute_result"
    }
   ],
   "source": [
    "cal_prob2(Xval, mu, cov)[:5]"
   ]
  },
  {
   "cell_type": "code",
   "execution_count": 19,
   "metadata": {
    "collapsed": false,
    "deletable": true,
    "editable": true
   },
   "outputs": [
    {
     "name": "stdout",
     "output_type": "stream",
     "text": [
      "(0.82352941176470595, 0.0010200000000000001)\n"
     ]
    },
    {
     "data": {
      "text/plain": [
       "(0.87500000000000011, 1.0000000000000001e-05)"
      ]
     },
     "execution_count": 19,
     "metadata": {},
     "output_type": "execute_result"
    }
   ],
   "source": [
    "fset = select_best_eps(Xval, yval, mu, sd, eps, cal_prob)\n",
    "best_ = max(fset, key=lambda x: x[0])\n",
    "print(best_)\n",
    "fset = select_best_eps(Xval, yval, mu, sd, eps, cal_prob2)\n",
    "best_ = max(fset, key=lambda x: x[0])\n",
    "best_"
   ]
  },
  {
   "cell_type": "code",
   "execution_count": 20,
   "metadata": {
    "collapsed": false,
    "deletable": true,
    "editable": true
   },
   "outputs": [
    {
     "data": {
      "text/plain": [
       "[0, 0, 0, 0, 0]"
      ]
     },
     "execution_count": 20,
     "metadata": {},
     "output_type": "execute_result"
    }
   ],
   "source": [
    "tr_label = [1 if v < best_[1] else 0 for v in cal_prob(X, mu, sd)]\n",
    "tr_label[:5]"
   ]
  },
  {
   "cell_type": "code",
   "execution_count": 21,
   "metadata": {
    "collapsed": false,
    "deletable": true,
    "editable": true
   },
   "outputs": [],
   "source": [
    "X[\"label\"] = [\"Normal\" if p == 0 else \"Problem Server\" for p in pd.Series(tr_label)]"
   ]
  },
  {
   "cell_type": "code",
   "execution_count": 22,
   "metadata": {
    "collapsed": false,
    "deletable": true,
    "editable": true
   },
   "outputs": [
    {
     "name": "stdout",
     "output_type": "stream",
     "text": [
      "Index([0, 1, 'label'], dtype='object')\n"
     ]
    },
    {
     "data": {
      "text/plain": [
       "<matplotlib.text.Text at 0x7fbc58702b38>"
      ]
     },
     "execution_count": 22,
     "metadata": {},
     "output_type": "execute_result"
    },
    {
     "data": {
      "image/png": "[encoded data removed]",
      "text/plain": [
       "<matplotlib.figure.Figure at 0x7fbc587971d0>"
      ]
     },
     "metadata": {},
     "output_type": "display_data"
    }
   ],
   "source": [
    "sns.set_context(\"notebook\", font_scale=1.1)\n",
    "sns.set_style(\"ticks\")\n",
    "sns.set(font=\"DejaVu Sans\")\n",
    "# X.plot(0, 1, kind=\"scatter\")\n",
    "print(X.columns)\n",
    "X.columns = [\"x\", \"y\", \"label\"]\n",
    "sns.lmplot(x = \"x\", y = \"y\", fit_reg=False, hue=\"label\", data=X)\n",
    "plt.xlabel(\"Latency(ms)\")\n",
    "plt.ylabel(\"Throughput(mb/s)\")"
   ]
  },
  {
   "cell_type": "code",
   "execution_count": 23,
   "metadata": {
    "collapsed": false,
    "deletable": true,
    "editable": true
   },
   "outputs": [
    {
     "data": {
      "image/png": "[encoded data removed]",
      "text/plain": [
       "<matplotlib.figure.Figure at 0x7fbc58781c18>"
      ]
     },
     "metadata": {},
     "output_type": "display_data"
    }
   ],
   "source": [
    "fig, ax = plt.subplots()\n",
    "colors = {\"Normal\": \"blue\", \"Problem Server\": \"red\"}\n",
    "ax.scatter(X[\"x\"], X[\"y\"], c=X[\"label\"].apply(lambda x: colors[x]))\n",
    "plt.show()"
   ]
  },
  {
   "cell_type": "code",
   "execution_count": 24,
   "metadata": {
    "collapsed": false,
    "deletable": true,
    "editable": true
   },
   "outputs": [
    {
     "name": "stderr",
     "output_type": "stream",
     "text": [
      "/usr/local/lib/python3.5/dist-packages/matplotlib/font_manager.py:1297: UserWarning: findfont: Font family ['sans-serif'] not found. Falling back to DejaVu Sans\n",
      "  (prop.get_family(), self.defaultFamily[fontext]))\n"
     ]
    },
    {
     "data": {
      "image/png": "[encoded data removed]",
      "text/plain": [
       "<matplotlib.figure.Figure at 0x7fbc55ae0438>"
      ]
     },
     "metadata": {},
     "output_type": "display_data"
    },
    {
     "data": {
      "text/plain": [
       "<ggplot: (8777934326697)>"
      ]
     },
     "execution_count": 24,
     "metadata": {},
     "output_type": "execute_result"
    }
   ],
   "source": [
    "from ggplot import ggplot, aes, geom_point, theme_bw\n",
    "\n",
    "# only colour, col not work\n",
    "ggplot(X, aes(\"x\", \"y\", colour=\"label\")) + \\\n",
    "    geom_point(size=50) + \\\n",
    "    theme_bw()"
   ]
  },
  {
   "cell_type": "code",
   "execution_count": 25,
   "metadata": {
    "collapsed": true
   },
   "outputs": [],
   "source": [
    "# 更多特征的数据\n",
    "\n",
    "X, Xval, yval = loadMat(\"data/ex8data2.mat\")"
   ]
  },
  {
   "cell_type": "code",
   "execution_count": 26,
   "metadata": {
    "collapsed": false
   },
   "outputs": [
    {
     "data": {
      "text/html": [
       "<div>\n",
       "<table border=\"1\" class=\"dataframe\">\n",
       "  <thead>\n",
       "    <tr style=\"text-align: right;\">\n",
       "      <th></th>\n",
       "      <th>0</th>\n",
       "      <th>1</th>\n",
       "      <th>2</th>\n",
       "      <th>3</th>\n",
       "      <th>4</th>\n",
       "      <th>5</th>\n",
       "      <th>6</th>\n",
       "      <th>7</th>\n",
       "      <th>8</th>\n",
       "      <th>9</th>\n",
       "      <th>10</th>\n",
       "    </tr>\n",
       "  </thead>\n",
       "  <tbody>\n",
       "    <tr>\n",
       "      <th>count</th>\n",
       "      <td>1000.000000</td>\n",
       "      <td>1000.000000</td>\n",
       "      <td>1000.000000</td>\n",
       "      <td>1000.000000</td>\n",
       "      <td>1000.000000</td>\n",
       "      <td>1000.000000</td>\n",
       "      <td>1000.000000</td>\n",
       "      <td>1000.000000</td>\n",
       "      <td>1000.000000</td>\n",
       "      <td>1000.000000</td>\n",
       "      <td>1000.000000</td>\n",
       "    </tr>\n",
       "    <tr>\n",
       "      <th>mean</th>\n",
       "      <td>4.939400</td>\n",
       "      <td>-9.637268</td>\n",
       "      <td>13.814707</td>\n",
       "      <td>-10.464489</td>\n",
       "      <td>-7.956229</td>\n",
       "      <td>10.199504</td>\n",
       "      <td>-6.019408</td>\n",
       "      <td>7.969829</td>\n",
       "      <td>-6.253182</td>\n",
       "      <td>2.324513</td>\n",
       "      <td>8.473723</td>\n",
       "    </tr>\n",
       "    <tr>\n",
       "      <th>std</th>\n",
       "      <td>7.812549</td>\n",
       "      <td>7.297875</td>\n",
       "      <td>7.653368</td>\n",
       "      <td>9.180867</td>\n",
       "      <td>8.082940</td>\n",
       "      <td>9.469136</td>\n",
       "      <td>7.462519</td>\n",
       "      <td>9.340749</td>\n",
       "      <td>5.446001</td>\n",
       "      <td>8.417604</td>\n",
       "      <td>7.110142</td>\n",
       "    </tr>\n",
       "    <tr>\n",
       "      <th>min</th>\n",
       "      <td>-17.488978</td>\n",
       "      <td>-38.593613</td>\n",
       "      <td>-9.913776</td>\n",
       "      <td>-35.968341</td>\n",
       "      <td>-35.351822</td>\n",
       "      <td>-19.691088</td>\n",
       "      <td>-32.280955</td>\n",
       "      <td>-23.218312</td>\n",
       "      <td>-22.039903</td>\n",
       "      <td>-23.459247</td>\n",
       "      <td>-20.151703</td>\n",
       "    </tr>\n",
       "    <tr>\n",
       "      <th>25%</th>\n",
       "      <td>-0.316875</td>\n",
       "      <td>-14.748531</td>\n",
       "      <td>8.574329</td>\n",
       "      <td>-16.857135</td>\n",
       "      <td>-13.441359</td>\n",
       "      <td>3.845608</td>\n",
       "      <td>-10.927054</td>\n",
       "      <td>1.903339</td>\n",
       "      <td>-10.088911</td>\n",
       "      <td>-3.480037</td>\n",
       "      <td>3.954336</td>\n",
       "    </tr>\n",
       "    <tr>\n",
       "      <th>50%</th>\n",
       "      <td>5.307967</td>\n",
       "      <td>-9.713506</td>\n",
       "      <td>13.683700</td>\n",
       "      <td>-10.443133</td>\n",
       "      <td>-8.031732</td>\n",
       "      <td>10.125638</td>\n",
       "      <td>-6.140154</td>\n",
       "      <td>8.256812</td>\n",
       "      <td>-6.277626</td>\n",
       "      <td>2.549715</td>\n",
       "      <td>8.478900</td>\n",
       "    </tr>\n",
       "    <tr>\n",
       "      <th>75%</th>\n",
       "      <td>9.988519</td>\n",
       "      <td>-4.861675</td>\n",
       "      <td>18.648459</td>\n",
       "      <td>-4.187347</td>\n",
       "      <td>-2.511060</td>\n",
       "      <td>16.528072</td>\n",
       "      <td>-0.396653</td>\n",
       "      <td>14.180604</td>\n",
       "      <td>-2.540369</td>\n",
       "      <td>7.779696</td>\n",
       "      <td>13.244609</td>\n",
       "    </tr>\n",
       "    <tr>\n",
       "      <th>max</th>\n",
       "      <td>28.384866</td>\n",
       "      <td>13.689702</td>\n",
       "      <td>43.322411</td>\n",
       "      <td>16.082439</td>\n",
       "      <td>15.592370</td>\n",
       "      <td>47.131732</td>\n",
       "      <td>25.473844</td>\n",
       "      <td>41.978198</td>\n",
       "      <td>12.090256</td>\n",
       "      <td>26.166271</td>\n",
       "      <td>36.544551</td>\n",
       "    </tr>\n",
       "  </tbody>\n",
       "</table>\n",
       "</div>"
      ],
      "text/plain": [
       "                0            1            2            3            4   \\\n",
       "count  1000.000000  1000.000000  1000.000000  1000.000000  1000.000000   \n",
       "mean      4.939400    -9.637268    13.814707   -10.464489    -7.956229   \n",
       "std       7.812549     7.297875     7.653368     9.180867     8.082940   \n",
       "min     -17.488978   -38.593613    -9.913776   -35.968341   -35.351822   \n",
       "25%      -0.316875   -14.748531     8.574329   -16.857135   -13.441359   \n",
       "50%       5.307967    -9.713506    13.683700   -10.443133    -8.031732   \n",
       "75%       9.988519    -4.861675    18.648459    -4.187347    -2.511060   \n",
       "max      28.384866    13.689702    43.322411    16.082439    15.592370   \n",
       "\n",
       "                5            6            7            8            9   \\\n",
       "count  1000.000000  1000.000000  1000.000000  1000.000000  1000.000000   \n",
       "mean     10.199504    -6.019408     7.969829    -6.253182     2.324513   \n",
       "std       9.469136     7.462519     9.340749     5.446001     8.417604   \n",
       "min     -19.691088   -32.280955   -23.218312   -22.039903   -23.459247   \n",
       "25%       3.845608   -10.927054     1.903339   -10.088911    -3.480037   \n",
       "50%      10.125638    -6.140154     8.256812    -6.277626     2.549715   \n",
       "75%      16.528072    -0.396653    14.180604    -2.540369     7.779696   \n",
       "max      47.131732    25.473844    41.978198    12.090256    26.166271   \n",
       "\n",
       "                10  \n",
       "count  1000.000000  \n",
       "mean      8.473723  \n",
       "std       7.110142  \n",
       "min     -20.151703  \n",
       "25%       3.954336  \n",
       "50%       8.478900  \n",
       "75%      13.244609  \n",
       "max      36.544551  "
      ]
     },
     "execution_count": 26,
     "metadata": {},
     "output_type": "execute_result"
    }
   ],
   "source": [
    "X.describe()"
   ]
  },
  {
   "cell_type": "code",
   "execution_count": 27,
   "metadata": {
    "collapsed": false
   },
   "outputs": [
    {
     "data": {
      "text/plain": [
       "array([ -94.62290389, -180.23656016,  -50.74398161,  -58.33569117,\n",
       "       -208.76059566])"
      ]
     },
     "execution_count": 27,
     "metadata": {},
     "output_type": "execute_result"
    }
   ],
   "source": [
    "norm.logpdf(np.asarray(X)[:, 1])[:5]"
   ]
  },
  {
   "cell_type": "code",
   "execution_count": 28,
   "metadata": {
    "collapsed": false
   },
   "outputs": [
    {
     "name": "stderr",
     "output_type": "stream",
     "text": [
      "/usr/local/lib/python3.5/dist-packages/sklearn/metrics/classification.py:1113: UndefinedMetricWarning: F-score is ill-defined and being set to 0.0 due to no predicted samples.\n",
      "  'precision', 'predicted', average, warn_for)\n"
     ]
    },
    {
     "data": {
      "text/plain": [
       "(0.61538461538461542, 1.371660675040733e-18)"
      ]
     },
     "execution_count": 28,
     "metadata": {},
     "output_type": "execute_result"
    }
   ],
   "source": [
    "class ANormalDetector(object):\n",
    "    \n",
    "    def __init__(self, model_type=\"simple\"):\n",
    "        # 没检测属性\n",
    "        self._mu = None\n",
    "        self._sd = None\n",
    "        self._cov = None\n",
    "        self._model_type = model_type\n",
    "    \n",
    "    \n",
    "    def train(self, X):\n",
    "        self._mu = X.mean()\n",
    "        if self._model_type == \"simple\":\n",
    "            self._sd = X.std()\n",
    "        elif self._model_type == \"multi\":\n",
    "            self._cov = X.cov()\n",
    "        else:\n",
    "            raise(\"Unknown Model Type.\")\n",
    "    \n",
    "    def get_param(self):\n",
    "        return self._mu, self._sd if self._model_type == \"simple\" else self._cov\n",
    "    \n",
    "    def predict_prob(self, Xval):\n",
    "        if self._model_type == \"simple\":\n",
    "            feature_probs = []\n",
    "            Xval = np.asanyarray(Xval)\n",
    "            for i in range(len(self._mu)):\n",
    "                feature_probs.append(norm.logpdf(Xval[:, i], self._mu[i], self._sd[i]))\n",
    "            probs = np.exp(sum(feature_probs))\n",
    "            return probs\n",
    "        elif self._model_type == \"multi\":\n",
    "            probs = multivariate_normal.pdf(Xval, self._mu, self._cov)\n",
    "            return probs\n",
    "        else:\n",
    "            raise(\"Unknown model type!\")\n",
    "    \n",
    "    def select_best_eps(self, Xval, yval, size=100):\n",
    "        y_prob = self.predict_prob(Xval)\n",
    "        step_size = (max(y_prob) - min(y_prob)) / size\n",
    "        best_f1 = 0\n",
    "        best_e = 0\n",
    "        # print(min(y_prob), max(y_prob))\n",
    "        # print(step_size)\n",
    "        # 用已经预测好的值进行间隔去epsilo会较为精准，避免随机选取出的参数过于粗略\n",
    "        for e in np.arange(min(y_prob), max(y_prob), step_size):\n",
    "            y_label = [1 if p < e else 0 for p in y_prob]\n",
    "            f1 = f1_score(yval, y_label, average=\"binary\")\n",
    "            if f1 > best_f1:\n",
    "                best_f1 = f1\n",
    "                best_e = e\n",
    "        return best_f1, best_e\n",
    "    \n",
    "Model = ANormalDetector()\n",
    "Model.train(X)\n",
    "best_ = Model.select_best_eps(Xval, yval.iloc[:, 0], size=1000)\n",
    "best_"
   ]
  },
  {
   "cell_type": "code",
   "execution_count": 29,
   "metadata": {
    "collapsed": false
   },
   "outputs": [
    {
     "data": {
      "text/plain": [
       "117"
      ]
     },
     "execution_count": 29,
     "metadata": {},
     "output_type": "execute_result"
    }
   ],
   "source": [
    "# array\n",
    "sum(Model.predict_prob(X) < best_[1])"
   ]
  },
  {
   "cell_type": "code",
   "execution_count": 30,
   "metadata": {
    "collapsed": false
   },
   "outputs": [
    {
     "name": "stderr",
     "output_type": "stream",
     "text": [
      "/usr/local/lib/python3.5/dist-packages/sklearn/metrics/classification.py:1113: UndefinedMetricWarning: F-score is ill-defined and being set to 0.0 due to no predicted samples.\n",
      "  'precision', 'predicted', average, warn_for)\n"
     ]
    },
    {
     "data": {
      "text/plain": [
       "(0.55172413793103448, 1.7464996396712342e-18)"
      ]
     },
     "execution_count": 30,
     "metadata": {},
     "output_type": "execute_result"
    }
   ],
   "source": [
    "Model = ANormalDetector(model_type=\"multi\")\n",
    "Model.train(X)\n",
    "best_ = Model.select_best_eps(Xval, yval.iloc[:, 0], size=1000)\n",
    "best_"
   ]
  },
  {
   "cell_type": "code",
   "execution_count": 31,
   "metadata": {
    "collapsed": false
   },
   "outputs": [
    {
     "data": {
      "text/plain": [
       "122"
      ]
     },
     "execution_count": 31,
     "metadata": {},
     "output_type": "execute_result"
    }
   ],
   "source": [
    "sum(1 if p < best_[1] else 0 for p in Model.predict_prob(X))"
   ]
  },
  {
   "cell_type": "code",
   "execution_count": 32,
   "metadata": {
    "collapsed": false
   },
   "outputs": [
    {
     "data": {
      "text/plain": [
       "122"
      ]
     },
     "execution_count": 32,
     "metadata": {},
     "output_type": "execute_result"
    }
   ],
   "source": [
    "# array\n",
    "sum(Model.predict_prob(X) < best_[1])"
   ]
  },
  {
   "cell_type": "code",
   "execution_count": 33,
   "metadata": {
    "collapsed": false
   },
   "outputs": [
    {
     "data": {
      "text/plain": [
       "array([0, 0, 0, 0, 0])"
      ]
     },
     "execution_count": 33,
     "metadata": {},
     "output_type": "execute_result"
    }
   ],
   "source": [
    "# bool to int\n",
    "np.asarray((Model.predict_prob(X) < best_[1]) + 0)[:5]"
   ]
  }
 ],
 "metadata": {
  "kernelspec": {
   "display_name": "Python 3",
   "language": "python",
   "name": "python3"
  },
  "language_info": {
   "codemirror_mode": {
    "name": "ipython",
    "version": 3
   },
   "file_extension": ".py",
   "mimetype": "text/x-python",
   "name": "python",
   "nbconvert_exporter": "python",
   "pygments_lexer": "ipython3",
   "version": "3.5.2+"
  }
 },
 "nbformat": 4,
 "nbformat_minor": 2
}
